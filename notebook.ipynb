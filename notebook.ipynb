{
 "cells": [
  {
   "cell_type": "code",
   "execution_count": 107,
   "metadata": {},
   "outputs": [],
   "source": [
    "import pandas as pd\n",
    "import numpy as np\n",
    "import matplotlib.pyplot as plt\n",
    "import seaborn as sns\n",
    "from geopy.geocoders import Nominatim\n",
    "from sklearn.linear_model import LinearRegression, Ridge, Lasso\n",
    "from sklearn.preprocessing import PolynomialFeatures\n",
    "from sklearn.model_selection import train_test_split, cross_validate, cross_val_score\n",
    "from category_encoders.cat_boost import CatBoostEncoder\n",
    "from sklearn.preprocessing import MinMaxScaler , StandardScaler\n",
    "from sklearn import metrics\n",
    "from sklearn.metrics import r2_score\n",
    "import warnings\n",
    "warnings.filterwarnings('ignore')"
   ]
  },
  {
   "cell_type": "markdown",
   "metadata": {},
   "source": [
    "## Loading Dataset"
   ]
  },
  {
   "cell_type": "code",
   "execution_count": 2,
   "metadata": {
    "scrolled": true
   },
   "outputs": [
    {
     "data": {
      "text/html": [
       "<div>\n",
       "<style scoped>\n",
       "    .dataframe tbody tr th:only-of-type {\n",
       "        vertical-align: middle;\n",
       "    }\n",
       "\n",
       "    .dataframe tbody tr th {\n",
       "        vertical-align: top;\n",
       "    }\n",
       "\n",
       "    .dataframe thead th {\n",
       "        text-align: right;\n",
       "    }\n",
       "</style>\n",
       "<table border=\"1\" class=\"dataframe\">\n",
       "  <thead>\n",
       "    <tr style=\"text-align: right;\">\n",
       "      <th></th>\n",
       "      <th>Price</th>\n",
       "      <th>Area</th>\n",
       "      <th>Location</th>\n",
       "      <th>No. of Bedrooms</th>\n",
       "      <th>Resale</th>\n",
       "      <th>MaintenanceStaff</th>\n",
       "      <th>Gymnasium</th>\n",
       "      <th>SwimmingPool</th>\n",
       "      <th>LandscapedGardens</th>\n",
       "      <th>JoggingTrack</th>\n",
       "      <th>...</th>\n",
       "      <th>LiftAvailable</th>\n",
       "      <th>BED</th>\n",
       "      <th>VaastuCompliant</th>\n",
       "      <th>Microwave</th>\n",
       "      <th>GolfCourse</th>\n",
       "      <th>TV</th>\n",
       "      <th>DiningTable</th>\n",
       "      <th>Sofa</th>\n",
       "      <th>Wardrobe</th>\n",
       "      <th>Refrigerator</th>\n",
       "    </tr>\n",
       "  </thead>\n",
       "  <tbody>\n",
       "    <tr>\n",
       "      <th>0</th>\n",
       "      <td>6968000</td>\n",
       "      <td>1340</td>\n",
       "      <td>Nizampet</td>\n",
       "      <td>2</td>\n",
       "      <td>0</td>\n",
       "      <td>0</td>\n",
       "      <td>1</td>\n",
       "      <td>1</td>\n",
       "      <td>1</td>\n",
       "      <td>1</td>\n",
       "      <td>...</td>\n",
       "      <td>1</td>\n",
       "      <td>0</td>\n",
       "      <td>1</td>\n",
       "      <td>0</td>\n",
       "      <td>0</td>\n",
       "      <td>0</td>\n",
       "      <td>0</td>\n",
       "      <td>0</td>\n",
       "      <td>0</td>\n",
       "      <td>0</td>\n",
       "    </tr>\n",
       "    <tr>\n",
       "      <th>1</th>\n",
       "      <td>29000000</td>\n",
       "      <td>3498</td>\n",
       "      <td>Hitech City</td>\n",
       "      <td>4</td>\n",
       "      <td>0</td>\n",
       "      <td>0</td>\n",
       "      <td>1</td>\n",
       "      <td>1</td>\n",
       "      <td>1</td>\n",
       "      <td>1</td>\n",
       "      <td>...</td>\n",
       "      <td>1</td>\n",
       "      <td>0</td>\n",
       "      <td>1</td>\n",
       "      <td>0</td>\n",
       "      <td>0</td>\n",
       "      <td>0</td>\n",
       "      <td>0</td>\n",
       "      <td>0</td>\n",
       "      <td>0</td>\n",
       "      <td>0</td>\n",
       "    </tr>\n",
       "    <tr>\n",
       "      <th>2</th>\n",
       "      <td>6590000</td>\n",
       "      <td>1318</td>\n",
       "      <td>Manikonda</td>\n",
       "      <td>2</td>\n",
       "      <td>0</td>\n",
       "      <td>0</td>\n",
       "      <td>1</td>\n",
       "      <td>0</td>\n",
       "      <td>0</td>\n",
       "      <td>0</td>\n",
       "      <td>...</td>\n",
       "      <td>0</td>\n",
       "      <td>0</td>\n",
       "      <td>0</td>\n",
       "      <td>0</td>\n",
       "      <td>0</td>\n",
       "      <td>0</td>\n",
       "      <td>0</td>\n",
       "      <td>0</td>\n",
       "      <td>0</td>\n",
       "      <td>0</td>\n",
       "    </tr>\n",
       "    <tr>\n",
       "      <th>3</th>\n",
       "      <td>5739000</td>\n",
       "      <td>1295</td>\n",
       "      <td>Alwal</td>\n",
       "      <td>3</td>\n",
       "      <td>1</td>\n",
       "      <td>0</td>\n",
       "      <td>0</td>\n",
       "      <td>0</td>\n",
       "      <td>0</td>\n",
       "      <td>0</td>\n",
       "      <td>...</td>\n",
       "      <td>1</td>\n",
       "      <td>0</td>\n",
       "      <td>0</td>\n",
       "      <td>0</td>\n",
       "      <td>0</td>\n",
       "      <td>0</td>\n",
       "      <td>0</td>\n",
       "      <td>0</td>\n",
       "      <td>0</td>\n",
       "      <td>0</td>\n",
       "    </tr>\n",
       "    <tr>\n",
       "      <th>4</th>\n",
       "      <td>5679000</td>\n",
       "      <td>1145</td>\n",
       "      <td>Kukatpally</td>\n",
       "      <td>2</td>\n",
       "      <td>0</td>\n",
       "      <td>0</td>\n",
       "      <td>0</td>\n",
       "      <td>0</td>\n",
       "      <td>1</td>\n",
       "      <td>0</td>\n",
       "      <td>...</td>\n",
       "      <td>1</td>\n",
       "      <td>0</td>\n",
       "      <td>0</td>\n",
       "      <td>0</td>\n",
       "      <td>0</td>\n",
       "      <td>0</td>\n",
       "      <td>0</td>\n",
       "      <td>0</td>\n",
       "      <td>0</td>\n",
       "      <td>0</td>\n",
       "    </tr>\n",
       "    <tr>\n",
       "      <th>...</th>\n",
       "      <td>...</td>\n",
       "      <td>...</td>\n",
       "      <td>...</td>\n",
       "      <td>...</td>\n",
       "      <td>...</td>\n",
       "      <td>...</td>\n",
       "      <td>...</td>\n",
       "      <td>...</td>\n",
       "      <td>...</td>\n",
       "      <td>...</td>\n",
       "      <td>...</td>\n",
       "      <td>...</td>\n",
       "      <td>...</td>\n",
       "      <td>...</td>\n",
       "      <td>...</td>\n",
       "      <td>...</td>\n",
       "      <td>...</td>\n",
       "      <td>...</td>\n",
       "      <td>...</td>\n",
       "      <td>...</td>\n",
       "      <td>...</td>\n",
       "    </tr>\n",
       "    <tr>\n",
       "      <th>2513</th>\n",
       "      <td>11000000</td>\n",
       "      <td>1460</td>\n",
       "      <td>Nacharam</td>\n",
       "      <td>2</td>\n",
       "      <td>1</td>\n",
       "      <td>9</td>\n",
       "      <td>9</td>\n",
       "      <td>9</td>\n",
       "      <td>9</td>\n",
       "      <td>9</td>\n",
       "      <td>...</td>\n",
       "      <td>9</td>\n",
       "      <td>9</td>\n",
       "      <td>9</td>\n",
       "      <td>9</td>\n",
       "      <td>9</td>\n",
       "      <td>9</td>\n",
       "      <td>9</td>\n",
       "      <td>9</td>\n",
       "      <td>9</td>\n",
       "      <td>9</td>\n",
       "    </tr>\n",
       "    <tr>\n",
       "      <th>2514</th>\n",
       "      <td>26000000</td>\n",
       "      <td>1314</td>\n",
       "      <td>Manikonda</td>\n",
       "      <td>2</td>\n",
       "      <td>1</td>\n",
       "      <td>9</td>\n",
       "      <td>9</td>\n",
       "      <td>9</td>\n",
       "      <td>9</td>\n",
       "      <td>9</td>\n",
       "      <td>...</td>\n",
       "      <td>9</td>\n",
       "      <td>9</td>\n",
       "      <td>9</td>\n",
       "      <td>9</td>\n",
       "      <td>9</td>\n",
       "      <td>9</td>\n",
       "      <td>9</td>\n",
       "      <td>9</td>\n",
       "      <td>9</td>\n",
       "      <td>9</td>\n",
       "    </tr>\n",
       "    <tr>\n",
       "      <th>2515</th>\n",
       "      <td>13300000</td>\n",
       "      <td>2625</td>\n",
       "      <td>Madhapur</td>\n",
       "      <td>3</td>\n",
       "      <td>1</td>\n",
       "      <td>9</td>\n",
       "      <td>9</td>\n",
       "      <td>9</td>\n",
       "      <td>9</td>\n",
       "      <td>9</td>\n",
       "      <td>...</td>\n",
       "      <td>9</td>\n",
       "      <td>9</td>\n",
       "      <td>9</td>\n",
       "      <td>9</td>\n",
       "      <td>9</td>\n",
       "      <td>9</td>\n",
       "      <td>9</td>\n",
       "      <td>9</td>\n",
       "      <td>9</td>\n",
       "      <td>9</td>\n",
       "    </tr>\n",
       "    <tr>\n",
       "      <th>2516</th>\n",
       "      <td>10800000</td>\n",
       "      <td>2050</td>\n",
       "      <td>Hitech City</td>\n",
       "      <td>3</td>\n",
       "      <td>0</td>\n",
       "      <td>9</td>\n",
       "      <td>9</td>\n",
       "      <td>9</td>\n",
       "      <td>9</td>\n",
       "      <td>9</td>\n",
       "      <td>...</td>\n",
       "      <td>9</td>\n",
       "      <td>9</td>\n",
       "      <td>9</td>\n",
       "      <td>9</td>\n",
       "      <td>9</td>\n",
       "      <td>9</td>\n",
       "      <td>9</td>\n",
       "      <td>9</td>\n",
       "      <td>9</td>\n",
       "      <td>9</td>\n",
       "    </tr>\n",
       "    <tr>\n",
       "      <th>2517</th>\n",
       "      <td>10400000</td>\n",
       "      <td>1805</td>\n",
       "      <td>Narsingi</td>\n",
       "      <td>3</td>\n",
       "      <td>0</td>\n",
       "      <td>9</td>\n",
       "      <td>9</td>\n",
       "      <td>9</td>\n",
       "      <td>9</td>\n",
       "      <td>9</td>\n",
       "      <td>...</td>\n",
       "      <td>9</td>\n",
       "      <td>9</td>\n",
       "      <td>9</td>\n",
       "      <td>9</td>\n",
       "      <td>9</td>\n",
       "      <td>9</td>\n",
       "      <td>9</td>\n",
       "      <td>9</td>\n",
       "      <td>9</td>\n",
       "      <td>9</td>\n",
       "    </tr>\n",
       "  </tbody>\n",
       "</table>\n",
       "<p>2518 rows × 40 columns</p>\n",
       "</div>"
      ],
      "text/plain": [
       "         Price  Area     Location  No. of Bedrooms  Resale  MaintenanceStaff  \\\n",
       "0      6968000  1340     Nizampet                2       0                 0   \n",
       "1     29000000  3498  Hitech City                4       0                 0   \n",
       "2      6590000  1318    Manikonda                2       0                 0   \n",
       "3      5739000  1295        Alwal                3       1                 0   \n",
       "4      5679000  1145   Kukatpally                2       0                 0   \n",
       "...        ...   ...          ...              ...     ...               ...   \n",
       "2513  11000000  1460     Nacharam                2       1                 9   \n",
       "2514  26000000  1314    Manikonda                2       1                 9   \n",
       "2515  13300000  2625     Madhapur                3       1                 9   \n",
       "2516  10800000  2050  Hitech City                3       0                 9   \n",
       "2517  10400000  1805     Narsingi                3       0                 9   \n",
       "\n",
       "      Gymnasium  SwimmingPool  LandscapedGardens  JoggingTrack  ...  \\\n",
       "0             1             1                  1             1  ...   \n",
       "1             1             1                  1             1  ...   \n",
       "2             1             0                  0             0  ...   \n",
       "3             0             0                  0             0  ...   \n",
       "4             0             0                  1             0  ...   \n",
       "...         ...           ...                ...           ...  ...   \n",
       "2513          9             9                  9             9  ...   \n",
       "2514          9             9                  9             9  ...   \n",
       "2515          9             9                  9             9  ...   \n",
       "2516          9             9                  9             9  ...   \n",
       "2517          9             9                  9             9  ...   \n",
       "\n",
       "      LiftAvailable  BED  VaastuCompliant  Microwave  GolfCourse  TV  \\\n",
       "0                 1    0                1          0           0   0   \n",
       "1                 1    0                1          0           0   0   \n",
       "2                 0    0                0          0           0   0   \n",
       "3                 1    0                0          0           0   0   \n",
       "4                 1    0                0          0           0   0   \n",
       "...             ...  ...              ...        ...         ...  ..   \n",
       "2513              9    9                9          9           9   9   \n",
       "2514              9    9                9          9           9   9   \n",
       "2515              9    9                9          9           9   9   \n",
       "2516              9    9                9          9           9   9   \n",
       "2517              9    9                9          9           9   9   \n",
       "\n",
       "      DiningTable  Sofa  Wardrobe  Refrigerator  \n",
       "0               0     0         0             0  \n",
       "1               0     0         0             0  \n",
       "2               0     0         0             0  \n",
       "3               0     0         0             0  \n",
       "4               0     0         0             0  \n",
       "...           ...   ...       ...           ...  \n",
       "2513            9     9         9             9  \n",
       "2514            9     9         9             9  \n",
       "2515            9     9         9             9  \n",
       "2516            9     9         9             9  \n",
       "2517            9     9         9             9  \n",
       "\n",
       "[2518 rows x 40 columns]"
      ]
     },
     "execution_count": 2,
     "metadata": {},
     "output_type": "execute_result"
    }
   ],
   "source": [
    "df = pd.read_csv(\"Hyderabad.csv\")\n",
    "df"
   ]
  },
  {
   "cell_type": "markdown",
   "metadata": {},
   "source": [
    "**Data Summary**"
   ]
  },
  {
   "cell_type": "code",
   "execution_count": 3,
   "metadata": {
    "scrolled": true
   },
   "outputs": [
    {
     "data": {
      "text/html": [
       "<div>\n",
       "<style scoped>\n",
       "    .dataframe tbody tr th:only-of-type {\n",
       "        vertical-align: middle;\n",
       "    }\n",
       "\n",
       "    .dataframe tbody tr th {\n",
       "        vertical-align: top;\n",
       "    }\n",
       "\n",
       "    .dataframe thead th {\n",
       "        text-align: right;\n",
       "    }\n",
       "</style>\n",
       "<table border=\"1\" class=\"dataframe\">\n",
       "  <thead>\n",
       "    <tr style=\"text-align: right;\">\n",
       "      <th></th>\n",
       "      <th>count</th>\n",
       "      <th>mean</th>\n",
       "      <th>std</th>\n",
       "      <th>min</th>\n",
       "      <th>25%</th>\n",
       "      <th>50%</th>\n",
       "      <th>75%</th>\n",
       "      <th>99%</th>\n",
       "      <th>max</th>\n",
       "    </tr>\n",
       "  </thead>\n",
       "  <tbody>\n",
       "    <tr>\n",
       "      <th>Price</th>\n",
       "      <td>2518.0</td>\n",
       "      <td>9.818380e+06</td>\n",
       "      <td>8.777113e+06</td>\n",
       "      <td>2000000.0</td>\n",
       "      <td>4760000.0</td>\n",
       "      <td>7754000.0</td>\n",
       "      <td>10900000.0</td>\n",
       "      <td>45000000.0</td>\n",
       "      <td>165000000.0</td>\n",
       "    </tr>\n",
       "    <tr>\n",
       "      <th>Area</th>\n",
       "      <td>2518.0</td>\n",
       "      <td>1.644571e+03</td>\n",
       "      <td>7.462570e+02</td>\n",
       "      <td>500.0</td>\n",
       "      <td>1160.0</td>\n",
       "      <td>1500.0</td>\n",
       "      <td>1829.0</td>\n",
       "      <td>4500.0</td>\n",
       "      <td>9400.0</td>\n",
       "    </tr>\n",
       "    <tr>\n",
       "      <th>No. of Bedrooms</th>\n",
       "      <td>2518.0</td>\n",
       "      <td>2.623511e+00</td>\n",
       "      <td>6.873302e-01</td>\n",
       "      <td>1.0</td>\n",
       "      <td>2.0</td>\n",
       "      <td>3.0</td>\n",
       "      <td>3.0</td>\n",
       "      <td>4.0</td>\n",
       "      <td>8.0</td>\n",
       "    </tr>\n",
       "    <tr>\n",
       "      <th>Resale</th>\n",
       "      <td>2518.0</td>\n",
       "      <td>2.275616e-01</td>\n",
       "      <td>4.193413e-01</td>\n",
       "      <td>0.0</td>\n",
       "      <td>0.0</td>\n",
       "      <td>0.0</td>\n",
       "      <td>0.0</td>\n",
       "      <td>1.0</td>\n",
       "      <td>1.0</td>\n",
       "    </tr>\n",
       "    <tr>\n",
       "      <th>MaintenanceStaff</th>\n",
       "      <td>2518.0</td>\n",
       "      <td>4.126291e-01</td>\n",
       "      <td>1.626445e+00</td>\n",
       "      <td>0.0</td>\n",
       "      <td>0.0</td>\n",
       "      <td>0.0</td>\n",
       "      <td>0.0</td>\n",
       "      <td>9.0</td>\n",
       "      <td>9.0</td>\n",
       "    </tr>\n",
       "    <tr>\n",
       "      <th>Gymnasium</th>\n",
       "      <td>2518.0</td>\n",
       "      <td>7.398729e-01</td>\n",
       "      <td>1.611024e+00</td>\n",
       "      <td>0.0</td>\n",
       "      <td>0.0</td>\n",
       "      <td>0.0</td>\n",
       "      <td>1.0</td>\n",
       "      <td>9.0</td>\n",
       "      <td>9.0</td>\n",
       "    </tr>\n",
       "    <tr>\n",
       "      <th>SwimmingPool</th>\n",
       "      <td>2518.0</td>\n",
       "      <td>7.096902e-01</td>\n",
       "      <td>1.615231e+00</td>\n",
       "      <td>0.0</td>\n",
       "      <td>0.0</td>\n",
       "      <td>0.0</td>\n",
       "      <td>1.0</td>\n",
       "      <td>9.0</td>\n",
       "      <td>9.0</td>\n",
       "    </tr>\n",
       "    <tr>\n",
       "      <th>LandscapedGardens</th>\n",
       "      <td>2518.0</td>\n",
       "      <td>6.191422e-01</td>\n",
       "      <td>1.624426e+00</td>\n",
       "      <td>0.0</td>\n",
       "      <td>0.0</td>\n",
       "      <td>0.0</td>\n",
       "      <td>1.0</td>\n",
       "      <td>9.0</td>\n",
       "      <td>9.0</td>\n",
       "    </tr>\n",
       "    <tr>\n",
       "      <th>JoggingTrack</th>\n",
       "      <td>2518.0</td>\n",
       "      <td>5.599682e-01</td>\n",
       "      <td>1.627686e+00</td>\n",
       "      <td>0.0</td>\n",
       "      <td>0.0</td>\n",
       "      <td>0.0</td>\n",
       "      <td>1.0</td>\n",
       "      <td>9.0</td>\n",
       "      <td>9.0</td>\n",
       "    </tr>\n",
       "    <tr>\n",
       "      <th>RainWaterHarvesting</th>\n",
       "      <td>2518.0</td>\n",
       "      <td>6.064337e-01</td>\n",
       "      <td>1.625308e+00</td>\n",
       "      <td>0.0</td>\n",
       "      <td>0.0</td>\n",
       "      <td>0.0</td>\n",
       "      <td>1.0</td>\n",
       "      <td>9.0</td>\n",
       "      <td>9.0</td>\n",
       "    </tr>\n",
       "    <tr>\n",
       "      <th>IndoorGames</th>\n",
       "      <td>2518.0</td>\n",
       "      <td>5.806195e-01</td>\n",
       "      <td>1.626794e+00</td>\n",
       "      <td>0.0</td>\n",
       "      <td>0.0</td>\n",
       "      <td>0.0</td>\n",
       "      <td>1.0</td>\n",
       "      <td>9.0</td>\n",
       "      <td>9.0</td>\n",
       "    </tr>\n",
       "    <tr>\n",
       "      <th>ShoppingMall</th>\n",
       "      <td>2518.0</td>\n",
       "      <td>3.661636e-01</td>\n",
       "      <td>1.623281e+00</td>\n",
       "      <td>0.0</td>\n",
       "      <td>0.0</td>\n",
       "      <td>0.0</td>\n",
       "      <td>0.0</td>\n",
       "      <td>9.0</td>\n",
       "      <td>9.0</td>\n",
       "    </tr>\n",
       "    <tr>\n",
       "      <th>Intercom</th>\n",
       "      <td>2518.0</td>\n",
       "      <td>6.791104e-01</td>\n",
       "      <td>1.618909e+00</td>\n",
       "      <td>0.0</td>\n",
       "      <td>0.0</td>\n",
       "      <td>0.0</td>\n",
       "      <td>1.0</td>\n",
       "      <td>9.0</td>\n",
       "      <td>9.0</td>\n",
       "    </tr>\n",
       "    <tr>\n",
       "      <th>SportsFacility</th>\n",
       "      <td>2518.0</td>\n",
       "      <td>5.536140e-01</td>\n",
       "      <td>1.627908e+00</td>\n",
       "      <td>0.0</td>\n",
       "      <td>0.0</td>\n",
       "      <td>0.0</td>\n",
       "      <td>1.0</td>\n",
       "      <td>9.0</td>\n",
       "      <td>9.0</td>\n",
       "    </tr>\n",
       "    <tr>\n",
       "      <th>ATM</th>\n",
       "      <td>2518.0</td>\n",
       "      <td>4.217633e-01</td>\n",
       "      <td>1.626910e+00</td>\n",
       "      <td>0.0</td>\n",
       "      <td>0.0</td>\n",
       "      <td>0.0</td>\n",
       "      <td>0.0</td>\n",
       "      <td>9.0</td>\n",
       "      <td>9.0</td>\n",
       "    </tr>\n",
       "    <tr>\n",
       "      <th>ClubHouse</th>\n",
       "      <td>2518.0</td>\n",
       "      <td>7.116759e-01</td>\n",
       "      <td>1.614972e+00</td>\n",
       "      <td>0.0</td>\n",
       "      <td>0.0</td>\n",
       "      <td>0.0</td>\n",
       "      <td>1.0</td>\n",
       "      <td>9.0</td>\n",
       "      <td>9.0</td>\n",
       "    </tr>\n",
       "    <tr>\n",
       "      <th>School</th>\n",
       "      <td>2518.0</td>\n",
       "      <td>3.407466e-01</td>\n",
       "      <td>1.620984e+00</td>\n",
       "      <td>0.0</td>\n",
       "      <td>0.0</td>\n",
       "      <td>0.0</td>\n",
       "      <td>0.0</td>\n",
       "      <td>9.0</td>\n",
       "      <td>9.0</td>\n",
       "    </tr>\n",
       "    <tr>\n",
       "      <th>24X7Security</th>\n",
       "      <td>2518.0</td>\n",
       "      <td>7.065131e-01</td>\n",
       "      <td>1.615641e+00</td>\n",
       "      <td>0.0</td>\n",
       "      <td>0.0</td>\n",
       "      <td>0.0</td>\n",
       "      <td>1.0</td>\n",
       "      <td>9.0</td>\n",
       "      <td>9.0</td>\n",
       "    </tr>\n",
       "    <tr>\n",
       "      <th>PowerBackup</th>\n",
       "      <td>2518.0</td>\n",
       "      <td>9.356632e-01</td>\n",
       "      <td>1.569421e+00</td>\n",
       "      <td>0.0</td>\n",
       "      <td>0.0</td>\n",
       "      <td>1.0</td>\n",
       "      <td>1.0</td>\n",
       "      <td>9.0</td>\n",
       "      <td>9.0</td>\n",
       "    </tr>\n",
       "    <tr>\n",
       "      <th>CarParking</th>\n",
       "      <td>2518.0</td>\n",
       "      <td>7.362986e-01</td>\n",
       "      <td>1.611552e+00</td>\n",
       "      <td>0.0</td>\n",
       "      <td>0.0</td>\n",
       "      <td>0.0</td>\n",
       "      <td>1.0</td>\n",
       "      <td>9.0</td>\n",
       "      <td>9.0</td>\n",
       "    </tr>\n",
       "    <tr>\n",
       "      <th>StaffQuarter</th>\n",
       "      <td>2518.0</td>\n",
       "      <td>3.955520e-01</td>\n",
       "      <td>1.625437e+00</td>\n",
       "      <td>0.0</td>\n",
       "      <td>0.0</td>\n",
       "      <td>0.0</td>\n",
       "      <td>0.0</td>\n",
       "      <td>9.0</td>\n",
       "      <td>9.0</td>\n",
       "    </tr>\n",
       "    <tr>\n",
       "      <th>Cafeteria</th>\n",
       "      <td>2518.0</td>\n",
       "      <td>4.134234e-01</td>\n",
       "      <td>1.626487e+00</td>\n",
       "      <td>0.0</td>\n",
       "      <td>0.0</td>\n",
       "      <td>0.0</td>\n",
       "      <td>0.0</td>\n",
       "      <td>9.0</td>\n",
       "      <td>9.0</td>\n",
       "    </tr>\n",
       "    <tr>\n",
       "      <th>MultipurposeRoom</th>\n",
       "      <td>2518.0</td>\n",
       "      <td>5.321684e-01</td>\n",
       "      <td>1.628473e+00</td>\n",
       "      <td>0.0</td>\n",
       "      <td>0.0</td>\n",
       "      <td>0.0</td>\n",
       "      <td>1.0</td>\n",
       "      <td>9.0</td>\n",
       "      <td>9.0</td>\n",
       "    </tr>\n",
       "    <tr>\n",
       "      <th>Hospital</th>\n",
       "      <td>2518.0</td>\n",
       "      <td>3.399523e-01</td>\n",
       "      <td>1.620905e+00</td>\n",
       "      <td>0.0</td>\n",
       "      <td>0.0</td>\n",
       "      <td>0.0</td>\n",
       "      <td>0.0</td>\n",
       "      <td>9.0</td>\n",
       "      <td>9.0</td>\n",
       "    </tr>\n",
       "    <tr>\n",
       "      <th>WashingMachine</th>\n",
       "      <td>2518.0</td>\n",
       "      <td>3.200953e-01</td>\n",
       "      <td>1.618821e+00</td>\n",
       "      <td>0.0</td>\n",
       "      <td>0.0</td>\n",
       "      <td>0.0</td>\n",
       "      <td>0.0</td>\n",
       "      <td>9.0</td>\n",
       "      <td>9.0</td>\n",
       "    </tr>\n",
       "    <tr>\n",
       "      <th>Gasconnection</th>\n",
       "      <td>2518.0</td>\n",
       "      <td>3.868149e-01</td>\n",
       "      <td>1.624852e+00</td>\n",
       "      <td>0.0</td>\n",
       "      <td>0.0</td>\n",
       "      <td>0.0</td>\n",
       "      <td>0.0</td>\n",
       "      <td>9.0</td>\n",
       "      <td>9.0</td>\n",
       "    </tr>\n",
       "    <tr>\n",
       "      <th>AC</th>\n",
       "      <td>2518.0</td>\n",
       "      <td>3.387609e-01</td>\n",
       "      <td>1.620787e+00</td>\n",
       "      <td>0.0</td>\n",
       "      <td>0.0</td>\n",
       "      <td>0.0</td>\n",
       "      <td>0.0</td>\n",
       "      <td>9.0</td>\n",
       "      <td>9.0</td>\n",
       "    </tr>\n",
       "    <tr>\n",
       "      <th>Wifi</th>\n",
       "      <td>2518.0</td>\n",
       "      <td>3.260524e-01</td>\n",
       "      <td>1.619472e+00</td>\n",
       "      <td>0.0</td>\n",
       "      <td>0.0</td>\n",
       "      <td>0.0</td>\n",
       "      <td>0.0</td>\n",
       "      <td>9.0</td>\n",
       "      <td>9.0</td>\n",
       "    </tr>\n",
       "    <tr>\n",
       "      <th>Children'splayarea</th>\n",
       "      <td>2518.0</td>\n",
       "      <td>7.541700e-01</td>\n",
       "      <td>1.608829e+00</td>\n",
       "      <td>0.0</td>\n",
       "      <td>0.0</td>\n",
       "      <td>0.0</td>\n",
       "      <td>1.0</td>\n",
       "      <td>9.0</td>\n",
       "      <td>9.0</td>\n",
       "    </tr>\n",
       "    <tr>\n",
       "      <th>LiftAvailable</th>\n",
       "      <td>2518.0</td>\n",
       "      <td>9.757744e-01</td>\n",
       "      <td>1.557725e+00</td>\n",
       "      <td>0.0</td>\n",
       "      <td>0.0</td>\n",
       "      <td>1.0</td>\n",
       "      <td>1.0</td>\n",
       "      <td>9.0</td>\n",
       "      <td>9.0</td>\n",
       "    </tr>\n",
       "    <tr>\n",
       "      <th>BED</th>\n",
       "      <td>2518.0</td>\n",
       "      <td>3.602065e-01</td>\n",
       "      <td>1.622778e+00</td>\n",
       "      <td>0.0</td>\n",
       "      <td>0.0</td>\n",
       "      <td>0.0</td>\n",
       "      <td>0.0</td>\n",
       "      <td>9.0</td>\n",
       "      <td>9.0</td>\n",
       "    </tr>\n",
       "    <tr>\n",
       "      <th>VaastuCompliant</th>\n",
       "      <td>2518.0</td>\n",
       "      <td>6.072280e-01</td>\n",
       "      <td>1.625256e+00</td>\n",
       "      <td>0.0</td>\n",
       "      <td>0.0</td>\n",
       "      <td>0.0</td>\n",
       "      <td>1.0</td>\n",
       "      <td>9.0</td>\n",
       "      <td>9.0</td>\n",
       "    </tr>\n",
       "    <tr>\n",
       "      <th>Microwave</th>\n",
       "      <td>2518.0</td>\n",
       "      <td>3.427323e-01</td>\n",
       "      <td>1.621178e+00</td>\n",
       "      <td>0.0</td>\n",
       "      <td>0.0</td>\n",
       "      <td>0.0</td>\n",
       "      <td>0.0</td>\n",
       "      <td>9.0</td>\n",
       "      <td>9.0</td>\n",
       "    </tr>\n",
       "    <tr>\n",
       "      <th>GolfCourse</th>\n",
       "      <td>2518.0</td>\n",
       "      <td>3.300238e-01</td>\n",
       "      <td>1.619894e+00</td>\n",
       "      <td>0.0</td>\n",
       "      <td>0.0</td>\n",
       "      <td>0.0</td>\n",
       "      <td>0.0</td>\n",
       "      <td>9.0</td>\n",
       "      <td>9.0</td>\n",
       "    </tr>\n",
       "    <tr>\n",
       "      <th>TV</th>\n",
       "      <td>2518.0</td>\n",
       "      <td>3.212867e-01</td>\n",
       "      <td>1.618953e+00</td>\n",
       "      <td>0.0</td>\n",
       "      <td>0.0</td>\n",
       "      <td>0.0</td>\n",
       "      <td>0.0</td>\n",
       "      <td>9.0</td>\n",
       "      <td>9.0</td>\n",
       "    </tr>\n",
       "    <tr>\n",
       "      <th>DiningTable</th>\n",
       "      <td>2518.0</td>\n",
       "      <td>3.343924e-01</td>\n",
       "      <td>1.620347e+00</td>\n",
       "      <td>0.0</td>\n",
       "      <td>0.0</td>\n",
       "      <td>0.0</td>\n",
       "      <td>0.0</td>\n",
       "      <td>9.0</td>\n",
       "      <td>9.0</td>\n",
       "    </tr>\n",
       "    <tr>\n",
       "      <th>Sofa</th>\n",
       "      <td>2518.0</td>\n",
       "      <td>3.423352e-01</td>\n",
       "      <td>1.621139e+00</td>\n",
       "      <td>0.0</td>\n",
       "      <td>0.0</td>\n",
       "      <td>0.0</td>\n",
       "      <td>0.0</td>\n",
       "      <td>9.0</td>\n",
       "      <td>9.0</td>\n",
       "    </tr>\n",
       "    <tr>\n",
       "      <th>Wardrobe</th>\n",
       "      <td>2518.0</td>\n",
       "      <td>3.411438e-01</td>\n",
       "      <td>1.621023e+00</td>\n",
       "      <td>0.0</td>\n",
       "      <td>0.0</td>\n",
       "      <td>0.0</td>\n",
       "      <td>0.0</td>\n",
       "      <td>9.0</td>\n",
       "      <td>9.0</td>\n",
       "    </tr>\n",
       "    <tr>\n",
       "      <th>Refrigerator</th>\n",
       "      <td>2518.0</td>\n",
       "      <td>3.248610e-01</td>\n",
       "      <td>1.619344e+00</td>\n",
       "      <td>0.0</td>\n",
       "      <td>0.0</td>\n",
       "      <td>0.0</td>\n",
       "      <td>0.0</td>\n",
       "      <td>9.0</td>\n",
       "      <td>9.0</td>\n",
       "    </tr>\n",
       "  </tbody>\n",
       "</table>\n",
       "</div>"
      ],
      "text/plain": [
       "                      count          mean           std        min        25%  \\\n",
       "Price                2518.0  9.818380e+06  8.777113e+06  2000000.0  4760000.0   \n",
       "Area                 2518.0  1.644571e+03  7.462570e+02      500.0     1160.0   \n",
       "No. of Bedrooms      2518.0  2.623511e+00  6.873302e-01        1.0        2.0   \n",
       "Resale               2518.0  2.275616e-01  4.193413e-01        0.0        0.0   \n",
       "MaintenanceStaff     2518.0  4.126291e-01  1.626445e+00        0.0        0.0   \n",
       "Gymnasium            2518.0  7.398729e-01  1.611024e+00        0.0        0.0   \n",
       "SwimmingPool         2518.0  7.096902e-01  1.615231e+00        0.0        0.0   \n",
       "LandscapedGardens    2518.0  6.191422e-01  1.624426e+00        0.0        0.0   \n",
       "JoggingTrack         2518.0  5.599682e-01  1.627686e+00        0.0        0.0   \n",
       "RainWaterHarvesting  2518.0  6.064337e-01  1.625308e+00        0.0        0.0   \n",
       "IndoorGames          2518.0  5.806195e-01  1.626794e+00        0.0        0.0   \n",
       "ShoppingMall         2518.0  3.661636e-01  1.623281e+00        0.0        0.0   \n",
       "Intercom             2518.0  6.791104e-01  1.618909e+00        0.0        0.0   \n",
       "SportsFacility       2518.0  5.536140e-01  1.627908e+00        0.0        0.0   \n",
       "ATM                  2518.0  4.217633e-01  1.626910e+00        0.0        0.0   \n",
       "ClubHouse            2518.0  7.116759e-01  1.614972e+00        0.0        0.0   \n",
       "School               2518.0  3.407466e-01  1.620984e+00        0.0        0.0   \n",
       "24X7Security         2518.0  7.065131e-01  1.615641e+00        0.0        0.0   \n",
       "PowerBackup          2518.0  9.356632e-01  1.569421e+00        0.0        0.0   \n",
       "CarParking           2518.0  7.362986e-01  1.611552e+00        0.0        0.0   \n",
       "StaffQuarter         2518.0  3.955520e-01  1.625437e+00        0.0        0.0   \n",
       "Cafeteria            2518.0  4.134234e-01  1.626487e+00        0.0        0.0   \n",
       "MultipurposeRoom     2518.0  5.321684e-01  1.628473e+00        0.0        0.0   \n",
       "Hospital             2518.0  3.399523e-01  1.620905e+00        0.0        0.0   \n",
       "WashingMachine       2518.0  3.200953e-01  1.618821e+00        0.0        0.0   \n",
       "Gasconnection        2518.0  3.868149e-01  1.624852e+00        0.0        0.0   \n",
       "AC                   2518.0  3.387609e-01  1.620787e+00        0.0        0.0   \n",
       "Wifi                 2518.0  3.260524e-01  1.619472e+00        0.0        0.0   \n",
       "Children'splayarea   2518.0  7.541700e-01  1.608829e+00        0.0        0.0   \n",
       "LiftAvailable        2518.0  9.757744e-01  1.557725e+00        0.0        0.0   \n",
       "BED                  2518.0  3.602065e-01  1.622778e+00        0.0        0.0   \n",
       "VaastuCompliant      2518.0  6.072280e-01  1.625256e+00        0.0        0.0   \n",
       "Microwave            2518.0  3.427323e-01  1.621178e+00        0.0        0.0   \n",
       "GolfCourse           2518.0  3.300238e-01  1.619894e+00        0.0        0.0   \n",
       "TV                   2518.0  3.212867e-01  1.618953e+00        0.0        0.0   \n",
       "DiningTable          2518.0  3.343924e-01  1.620347e+00        0.0        0.0   \n",
       "Sofa                 2518.0  3.423352e-01  1.621139e+00        0.0        0.0   \n",
       "Wardrobe             2518.0  3.411438e-01  1.621023e+00        0.0        0.0   \n",
       "Refrigerator         2518.0  3.248610e-01  1.619344e+00        0.0        0.0   \n",
       "\n",
       "                           50%         75%         99%          max  \n",
       "Price                7754000.0  10900000.0  45000000.0  165000000.0  \n",
       "Area                    1500.0      1829.0      4500.0       9400.0  \n",
       "No. of Bedrooms            3.0         3.0         4.0          8.0  \n",
       "Resale                     0.0         0.0         1.0          1.0  \n",
       "MaintenanceStaff           0.0         0.0         9.0          9.0  \n",
       "Gymnasium                  0.0         1.0         9.0          9.0  \n",
       "SwimmingPool               0.0         1.0         9.0          9.0  \n",
       "LandscapedGardens          0.0         1.0         9.0          9.0  \n",
       "JoggingTrack               0.0         1.0         9.0          9.0  \n",
       "RainWaterHarvesting        0.0         1.0         9.0          9.0  \n",
       "IndoorGames                0.0         1.0         9.0          9.0  \n",
       "ShoppingMall               0.0         0.0         9.0          9.0  \n",
       "Intercom                   0.0         1.0         9.0          9.0  \n",
       "SportsFacility             0.0         1.0         9.0          9.0  \n",
       "ATM                        0.0         0.0         9.0          9.0  \n",
       "ClubHouse                  0.0         1.0         9.0          9.0  \n",
       "School                     0.0         0.0         9.0          9.0  \n",
       "24X7Security               0.0         1.0         9.0          9.0  \n",
       "PowerBackup                1.0         1.0         9.0          9.0  \n",
       "CarParking                 0.0         1.0         9.0          9.0  \n",
       "StaffQuarter               0.0         0.0         9.0          9.0  \n",
       "Cafeteria                  0.0         0.0         9.0          9.0  \n",
       "MultipurposeRoom           0.0         1.0         9.0          9.0  \n",
       "Hospital                   0.0         0.0         9.0          9.0  \n",
       "WashingMachine             0.0         0.0         9.0          9.0  \n",
       "Gasconnection              0.0         0.0         9.0          9.0  \n",
       "AC                         0.0         0.0         9.0          9.0  \n",
       "Wifi                       0.0         0.0         9.0          9.0  \n",
       "Children'splayarea         0.0         1.0         9.0          9.0  \n",
       "LiftAvailable              1.0         1.0         9.0          9.0  \n",
       "BED                        0.0         0.0         9.0          9.0  \n",
       "VaastuCompliant            0.0         1.0         9.0          9.0  \n",
       "Microwave                  0.0         0.0         9.0          9.0  \n",
       "GolfCourse                 0.0         0.0         9.0          9.0  \n",
       "TV                         0.0         0.0         9.0          9.0  \n",
       "DiningTable                0.0         0.0         9.0          9.0  \n",
       "Sofa                       0.0         0.0         9.0          9.0  \n",
       "Wardrobe                   0.0         0.0         9.0          9.0  \n",
       "Refrigerator               0.0         0.0         9.0          9.0  "
      ]
     },
     "metadata": {},
     "output_type": "display_data"
    }
   ],
   "source": [
    "display(df.describe([.25,.50, 0.75, 0.99]).T)"
   ]
  },
  {
   "cell_type": "markdown",
   "metadata": {},
   "source": [
    "- We can notice that there are some outliers and also feature scaling is needed."
   ]
  },
  {
   "cell_type": "markdown",
   "metadata": {},
   "source": [
    "**Data Info**"
   ]
  },
  {
   "cell_type": "code",
   "execution_count": 4,
   "metadata": {
    "scrolled": true
   },
   "outputs": [
    {
     "name": "stdout",
     "output_type": "stream",
     "text": [
      "<class 'pandas.core.frame.DataFrame'>\n",
      "RangeIndex: 2518 entries, 0 to 2517\n",
      "Data columns (total 40 columns):\n",
      " #   Column               Non-Null Count  Dtype \n",
      "---  ------               --------------  ----- \n",
      " 0   Price                2518 non-null   int64 \n",
      " 1   Area                 2518 non-null   int64 \n",
      " 2   Location             2518 non-null   object\n",
      " 3   No. of Bedrooms      2518 non-null   int64 \n",
      " 4   Resale               2518 non-null   int64 \n",
      " 5   MaintenanceStaff     2518 non-null   int64 \n",
      " 6   Gymnasium            2518 non-null   int64 \n",
      " 7   SwimmingPool         2518 non-null   int64 \n",
      " 8   LandscapedGardens    2518 non-null   int64 \n",
      " 9   JoggingTrack         2518 non-null   int64 \n",
      " 10  RainWaterHarvesting  2518 non-null   int64 \n",
      " 11  IndoorGames          2518 non-null   int64 \n",
      " 12  ShoppingMall         2518 non-null   int64 \n",
      " 13  Intercom             2518 non-null   int64 \n",
      " 14  SportsFacility       2518 non-null   int64 \n",
      " 15  ATM                  2518 non-null   int64 \n",
      " 16  ClubHouse            2518 non-null   int64 \n",
      " 17  School               2518 non-null   int64 \n",
      " 18  24X7Security         2518 non-null   int64 \n",
      " 19  PowerBackup          2518 non-null   int64 \n",
      " 20  CarParking           2518 non-null   int64 \n",
      " 21  StaffQuarter         2518 non-null   int64 \n",
      " 22  Cafeteria            2518 non-null   int64 \n",
      " 23  MultipurposeRoom     2518 non-null   int64 \n",
      " 24  Hospital             2518 non-null   int64 \n",
      " 25  WashingMachine       2518 non-null   int64 \n",
      " 26  Gasconnection        2518 non-null   int64 \n",
      " 27  AC                   2518 non-null   int64 \n",
      " 28  Wifi                 2518 non-null   int64 \n",
      " 29  Children'splayarea   2518 non-null   int64 \n",
      " 30  LiftAvailable        2518 non-null   int64 \n",
      " 31  BED                  2518 non-null   int64 \n",
      " 32  VaastuCompliant      2518 non-null   int64 \n",
      " 33  Microwave            2518 non-null   int64 \n",
      " 34  GolfCourse           2518 non-null   int64 \n",
      " 35  TV                   2518 non-null   int64 \n",
      " 36  DiningTable          2518 non-null   int64 \n",
      " 37  Sofa                 2518 non-null   int64 \n",
      " 38  Wardrobe             2518 non-null   int64 \n",
      " 39  Refrigerator         2518 non-null   int64 \n",
      "dtypes: int64(39), object(1)\n",
      "memory usage: 787.0+ KB\n"
     ]
    },
    {
     "data": {
      "text/plain": [
       "None"
      ]
     },
     "metadata": {},
     "output_type": "display_data"
    }
   ],
   "source": [
    "display(df.info())"
   ]
  },
  {
   "cell_type": "markdown",
   "metadata": {},
   "source": [
    "## Split 20% of data for final testing"
   ]
  },
  {
   "cell_type": "code",
   "execution_count": 157,
   "metadata": {},
   "outputs": [
    {
     "data": {
      "text/plain": [
       "(1110, 8)"
      ]
     },
     "metadata": {},
     "output_type": "display_data"
    }
   ],
   "source": [
    "df, test_df = train_test_split(df, test_size=0.2 , random_state=42)\n",
    "display(df.shape)"
   ]
  },
  {
   "cell_type": "markdown",
   "metadata": {},
   "source": [
    "**-->** 504 observations where separated for final testing and 2014 to be used in training and validation"
   ]
  },
  {
   "cell_type": "markdown",
   "metadata": {},
   "source": [
    "## Data Exploration and Cleaning"
   ]
  },
  {
   "cell_type": "markdown",
   "metadata": {},
   "source": [
    "### Checking for Null values"
   ]
  },
  {
   "cell_type": "code",
   "execution_count": 6,
   "metadata": {
    "scrolled": true
   },
   "outputs": [
    {
     "data": {
      "text/plain": [
       "Price                  0\n",
       "Area                   0\n",
       "Location               0\n",
       "No. of Bedrooms        0\n",
       "Resale                 0\n",
       "MaintenanceStaff       0\n",
       "Gymnasium              0\n",
       "SwimmingPool           0\n",
       "LandscapedGardens      0\n",
       "JoggingTrack           0\n",
       "RainWaterHarvesting    0\n",
       "IndoorGames            0\n",
       "ShoppingMall           0\n",
       "Intercom               0\n",
       "SportsFacility         0\n",
       "ATM                    0\n",
       "ClubHouse              0\n",
       "School                 0\n",
       "24X7Security           0\n",
       "PowerBackup            0\n",
       "CarParking             0\n",
       "StaffQuarter           0\n",
       "Cafeteria              0\n",
       "MultipurposeRoom       0\n",
       "Hospital               0\n",
       "WashingMachine         0\n",
       "Gasconnection          0\n",
       "AC                     0\n",
       "Wifi                   0\n",
       "Children'splayarea     0\n",
       "LiftAvailable          0\n",
       "BED                    0\n",
       "VaastuCompliant        0\n",
       "Microwave              0\n",
       "GolfCourse             0\n",
       "TV                     0\n",
       "DiningTable            0\n",
       "Sofa                   0\n",
       "Wardrobe               0\n",
       "Refrigerator           0\n",
       "dtype: int64"
      ]
     },
     "execution_count": 6,
     "metadata": {},
     "output_type": "execute_result"
    }
   ],
   "source": [
    "df.isna().sum()"
   ]
  },
  {
   "cell_type": "markdown",
   "metadata": {},
   "source": [
    "- There are no missing values"
   ]
  },
  {
   "cell_type": "markdown",
   "metadata": {},
   "source": [
    "### Checking for duplicates"
   ]
  },
  {
   "cell_type": "code",
   "execution_count": 7,
   "metadata": {},
   "outputs": [
    {
     "name": "stdout",
     "output_type": "stream",
     "text": [
      "Number of duplicate rows: 384\n"
     ]
    }
   ],
   "source": [
    "print(\"Number of duplicate rows:\", df.duplicated(subset=None, keep='first').sum())"
   ]
  },
  {
   "cell_type": "markdown",
   "metadata": {},
   "source": [
    "- There are 384 duplicate rows in the dataset, we will drop them."
   ]
  },
  {
   "cell_type": "markdown",
   "metadata": {},
   "source": [
    "**Drop duplicates**"
   ]
  },
  {
   "cell_type": "code",
   "execution_count": 8,
   "metadata": {},
   "outputs": [],
   "source": [
    "df.drop_duplicates(subset=None, keep='first',inplace=True)"
   ]
  },
  {
   "cell_type": "markdown",
   "metadata": {},
   "source": [
    "### Count plot of all amenities features"
   ]
  },
  {
   "cell_type": "code",
   "execution_count": 9,
   "metadata": {
    "scrolled": true
   },
   "outputs": [
    {
     "data": {
      "image/png": "[encoded data removed]",
      "text/plain": [
       "<Figure size 1080x1080 with 37 Axes>"
      ]
     },
     "metadata": {
      "needs_background": "light"
     },
     "output_type": "display_data"
    }
   ],
   "source": [
    "amenities_cols = df.drop(columns=['Location', 'Price', 'Area']).columns\n",
    "\n",
    "plt.figure(figsize=(15, 15))\n",
    "for n, variable in enumerate(amenities_cols):\n",
    "    ax = plt.subplot(7, 6, n + 1)\n",
    "    g=sns.countplot(data=df, x=df[variable], ax=ax)\n",
    "plt.tight_layout()"
   ]
  },
  {
   "cell_type": "markdown",
   "metadata": {},
   "source": [
    "- The records with values of 9 seems to be inaccurate, so we will invistegate rows that have any feature with values of 9:"
   ]
  },
  {
   "cell_type": "code",
   "execution_count": 10,
   "metadata": {
    "scrolled": true
   },
   "outputs": [
    {
     "data": {
      "text/html": [
       "<div>\n",
       "<style scoped>\n",
       "    .dataframe tbody tr th:only-of-type {\n",
       "        vertical-align: middle;\n",
       "    }\n",
       "\n",
       "    .dataframe tbody tr th {\n",
       "        vertical-align: top;\n",
       "    }\n",
       "\n",
       "    .dataframe thead th {\n",
       "        text-align: right;\n",
       "    }\n",
       "</style>\n",
       "<table border=\"1\" class=\"dataframe\">\n",
       "  <thead>\n",
       "    <tr style=\"text-align: right;\">\n",
       "      <th></th>\n",
       "      <th>Price</th>\n",
       "      <th>Area</th>\n",
       "      <th>Location</th>\n",
       "      <th>No. of Bedrooms</th>\n",
       "      <th>Resale</th>\n",
       "      <th>MaintenanceStaff</th>\n",
       "      <th>Gymnasium</th>\n",
       "      <th>SwimmingPool</th>\n",
       "      <th>LandscapedGardens</th>\n",
       "      <th>JoggingTrack</th>\n",
       "      <th>...</th>\n",
       "      <th>LiftAvailable</th>\n",
       "      <th>BED</th>\n",
       "      <th>VaastuCompliant</th>\n",
       "      <th>Microwave</th>\n",
       "      <th>GolfCourse</th>\n",
       "      <th>TV</th>\n",
       "      <th>DiningTable</th>\n",
       "      <th>Sofa</th>\n",
       "      <th>Wardrobe</th>\n",
       "      <th>Refrigerator</th>\n",
       "    </tr>\n",
       "  </thead>\n",
       "  <tbody>\n",
       "    <tr>\n",
       "      <th>2460</th>\n",
       "      <td>9991000</td>\n",
       "      <td>1045</td>\n",
       "      <td>Dilsukh Nagar</td>\n",
       "      <td>2</td>\n",
       "      <td>1</td>\n",
       "      <td>9</td>\n",
       "      <td>9</td>\n",
       "      <td>9</td>\n",
       "      <td>9</td>\n",
       "      <td>9</td>\n",
       "      <td>...</td>\n",
       "      <td>9</td>\n",
       "      <td>9</td>\n",
       "      <td>9</td>\n",
       "      <td>9</td>\n",
       "      <td>9</td>\n",
       "      <td>9</td>\n",
       "      <td>9</td>\n",
       "      <td>9</td>\n",
       "      <td>9</td>\n",
       "      <td>9</td>\n",
       "    </tr>\n",
       "    <tr>\n",
       "      <th>2503</th>\n",
       "      <td>3500000</td>\n",
       "      <td>1050</td>\n",
       "      <td>Nacharam</td>\n",
       "      <td>1</td>\n",
       "      <td>1</td>\n",
       "      <td>9</td>\n",
       "      <td>9</td>\n",
       "      <td>9</td>\n",
       "      <td>9</td>\n",
       "      <td>9</td>\n",
       "      <td>...</td>\n",
       "      <td>9</td>\n",
       "      <td>9</td>\n",
       "      <td>9</td>\n",
       "      <td>9</td>\n",
       "      <td>9</td>\n",
       "      <td>9</td>\n",
       "      <td>9</td>\n",
       "      <td>9</td>\n",
       "      <td>9</td>\n",
       "      <td>9</td>\n",
       "    </tr>\n",
       "    <tr>\n",
       "      <th>2482</th>\n",
       "      <td>12500000</td>\n",
       "      <td>2225</td>\n",
       "      <td>Kondapur</td>\n",
       "      <td>3</td>\n",
       "      <td>1</td>\n",
       "      <td>9</td>\n",
       "      <td>9</td>\n",
       "      <td>9</td>\n",
       "      <td>9</td>\n",
       "      <td>9</td>\n",
       "      <td>...</td>\n",
       "      <td>9</td>\n",
       "      <td>9</td>\n",
       "      <td>9</td>\n",
       "      <td>9</td>\n",
       "      <td>9</td>\n",
       "      <td>9</td>\n",
       "      <td>9</td>\n",
       "      <td>9</td>\n",
       "      <td>9</td>\n",
       "      <td>9</td>\n",
       "    </tr>\n",
       "    <tr>\n",
       "      <th>2436</th>\n",
       "      <td>6277000</td>\n",
       "      <td>1435</td>\n",
       "      <td>Kukatpally</td>\n",
       "      <td>3</td>\n",
       "      <td>0</td>\n",
       "      <td>9</td>\n",
       "      <td>9</td>\n",
       "      <td>9</td>\n",
       "      <td>9</td>\n",
       "      <td>9</td>\n",
       "      <td>...</td>\n",
       "      <td>9</td>\n",
       "      <td>9</td>\n",
       "      <td>9</td>\n",
       "      <td>9</td>\n",
       "      <td>9</td>\n",
       "      <td>9</td>\n",
       "      <td>9</td>\n",
       "      <td>9</td>\n",
       "      <td>9</td>\n",
       "      <td>9</td>\n",
       "    </tr>\n",
       "    <tr>\n",
       "      <th>2509</th>\n",
       "      <td>3800000</td>\n",
       "      <td>1260</td>\n",
       "      <td>Nacharam</td>\n",
       "      <td>1</td>\n",
       "      <td>1</td>\n",
       "      <td>9</td>\n",
       "      <td>9</td>\n",
       "      <td>9</td>\n",
       "      <td>9</td>\n",
       "      <td>9</td>\n",
       "      <td>...</td>\n",
       "      <td>9</td>\n",
       "      <td>9</td>\n",
       "      <td>9</td>\n",
       "      <td>9</td>\n",
       "      <td>9</td>\n",
       "      <td>9</td>\n",
       "      <td>9</td>\n",
       "      <td>9</td>\n",
       "      <td>9</td>\n",
       "      <td>9</td>\n",
       "    </tr>\n",
       "    <tr>\n",
       "      <th>...</th>\n",
       "      <td>...</td>\n",
       "      <td>...</td>\n",
       "      <td>...</td>\n",
       "      <td>...</td>\n",
       "      <td>...</td>\n",
       "      <td>...</td>\n",
       "      <td>...</td>\n",
       "      <td>...</td>\n",
       "      <td>...</td>\n",
       "      <td>...</td>\n",
       "      <td>...</td>\n",
       "      <td>...</td>\n",
       "      <td>...</td>\n",
       "      <td>...</td>\n",
       "      <td>...</td>\n",
       "      <td>...</td>\n",
       "      <td>...</td>\n",
       "      <td>...</td>\n",
       "      <td>...</td>\n",
       "      <td>...</td>\n",
       "      <td>...</td>\n",
       "    </tr>\n",
       "    <tr>\n",
       "      <th>2445</th>\n",
       "      <td>3000000</td>\n",
       "      <td>2300</td>\n",
       "      <td>Manikonda</td>\n",
       "      <td>4</td>\n",
       "      <td>1</td>\n",
       "      <td>9</td>\n",
       "      <td>9</td>\n",
       "      <td>9</td>\n",
       "      <td>9</td>\n",
       "      <td>9</td>\n",
       "      <td>...</td>\n",
       "      <td>9</td>\n",
       "      <td>9</td>\n",
       "      <td>9</td>\n",
       "      <td>9</td>\n",
       "      <td>9</td>\n",
       "      <td>9</td>\n",
       "      <td>9</td>\n",
       "      <td>9</td>\n",
       "      <td>9</td>\n",
       "      <td>9</td>\n",
       "    </tr>\n",
       "    <tr>\n",
       "      <th>2455</th>\n",
       "      <td>6240000</td>\n",
       "      <td>1655</td>\n",
       "      <td>Kollur Road</td>\n",
       "      <td>3</td>\n",
       "      <td>0</td>\n",
       "      <td>9</td>\n",
       "      <td>9</td>\n",
       "      <td>9</td>\n",
       "      <td>9</td>\n",
       "      <td>9</td>\n",
       "      <td>...</td>\n",
       "      <td>9</td>\n",
       "      <td>9</td>\n",
       "      <td>9</td>\n",
       "      <td>9</td>\n",
       "      <td>9</td>\n",
       "      <td>9</td>\n",
       "      <td>9</td>\n",
       "      <td>9</td>\n",
       "      <td>9</td>\n",
       "      <td>9</td>\n",
       "    </tr>\n",
       "    <tr>\n",
       "      <th>2472</th>\n",
       "      <td>3650000</td>\n",
       "      <td>1460</td>\n",
       "      <td>Narsingi</td>\n",
       "      <td>2</td>\n",
       "      <td>0</td>\n",
       "      <td>9</td>\n",
       "      <td>9</td>\n",
       "      <td>9</td>\n",
       "      <td>9</td>\n",
       "      <td>9</td>\n",
       "      <td>...</td>\n",
       "      <td>9</td>\n",
       "      <td>9</td>\n",
       "      <td>9</td>\n",
       "      <td>9</td>\n",
       "      <td>9</td>\n",
       "      <td>9</td>\n",
       "      <td>9</td>\n",
       "      <td>9</td>\n",
       "      <td>9</td>\n",
       "      <td>9</td>\n",
       "    </tr>\n",
       "    <tr>\n",
       "      <th>2449</th>\n",
       "      <td>4200000</td>\n",
       "      <td>1665</td>\n",
       "      <td>Kollur Road</td>\n",
       "      <td>3</td>\n",
       "      <td>0</td>\n",
       "      <td>9</td>\n",
       "      <td>9</td>\n",
       "      <td>9</td>\n",
       "      <td>9</td>\n",
       "      <td>9</td>\n",
       "      <td>...</td>\n",
       "      <td>9</td>\n",
       "      <td>9</td>\n",
       "      <td>9</td>\n",
       "      <td>9</td>\n",
       "      <td>9</td>\n",
       "      <td>9</td>\n",
       "      <td>9</td>\n",
       "      <td>9</td>\n",
       "      <td>9</td>\n",
       "      <td>9</td>\n",
       "    </tr>\n",
       "    <tr>\n",
       "      <th>2435</th>\n",
       "      <td>8105000</td>\n",
       "      <td>1725</td>\n",
       "      <td>Kompally</td>\n",
       "      <td>3</td>\n",
       "      <td>0</td>\n",
       "      <td>9</td>\n",
       "      <td>9</td>\n",
       "      <td>9</td>\n",
       "      <td>9</td>\n",
       "      <td>9</td>\n",
       "      <td>...</td>\n",
       "      <td>9</td>\n",
       "      <td>9</td>\n",
       "      <td>9</td>\n",
       "      <td>9</td>\n",
       "      <td>9</td>\n",
       "      <td>9</td>\n",
       "      <td>9</td>\n",
       "      <td>9</td>\n",
       "      <td>9</td>\n",
       "      <td>9</td>\n",
       "    </tr>\n",
       "  </tbody>\n",
       "</table>\n",
       "<p>72 rows × 40 columns</p>\n",
       "</div>"
      ],
      "text/plain": [
       "         Price  Area       Location  No. of Bedrooms  Resale  \\\n",
       "2460   9991000  1045  Dilsukh Nagar                2       1   \n",
       "2503   3500000  1050       Nacharam                1       1   \n",
       "2482  12500000  2225       Kondapur                3       1   \n",
       "2436   6277000  1435     Kukatpally                3       0   \n",
       "2509   3800000  1260       Nacharam                1       1   \n",
       "...        ...   ...            ...              ...     ...   \n",
       "2445   3000000  2300      Manikonda                4       1   \n",
       "2455   6240000  1655    Kollur Road                3       0   \n",
       "2472   3650000  1460       Narsingi                2       0   \n",
       "2449   4200000  1665    Kollur Road                3       0   \n",
       "2435   8105000  1725       Kompally                3       0   \n",
       "\n",
       "      MaintenanceStaff  Gymnasium  SwimmingPool  LandscapedGardens  \\\n",
       "2460                 9          9             9                  9   \n",
       "2503                 9          9             9                  9   \n",
       "2482                 9          9             9                  9   \n",
       "2436                 9          9             9                  9   \n",
       "2509                 9          9             9                  9   \n",
       "...                ...        ...           ...                ...   \n",
       "2445                 9          9             9                  9   \n",
       "2455                 9          9             9                  9   \n",
       "2472                 9          9             9                  9   \n",
       "2449                 9          9             9                  9   \n",
       "2435                 9          9             9                  9   \n",
       "\n",
       "      JoggingTrack  ...  LiftAvailable  BED  VaastuCompliant  Microwave  \\\n",
       "2460             9  ...              9    9                9          9   \n",
       "2503             9  ...              9    9                9          9   \n",
       "2482             9  ...              9    9                9          9   \n",
       "2436             9  ...              9    9                9          9   \n",
       "2509             9  ...              9    9                9          9   \n",
       "...            ...  ...            ...  ...              ...        ...   \n",
       "2445             9  ...              9    9                9          9   \n",
       "2455             9  ...              9    9                9          9   \n",
       "2472             9  ...              9    9                9          9   \n",
       "2449             9  ...              9    9                9          9   \n",
       "2435             9  ...              9    9                9          9   \n",
       "\n",
       "      GolfCourse  TV  DiningTable  Sofa  Wardrobe  Refrigerator  \n",
       "2460           9   9            9     9         9             9  \n",
       "2503           9   9            9     9         9             9  \n",
       "2482           9   9            9     9         9             9  \n",
       "2436           9   9            9     9         9             9  \n",
       "2509           9   9            9     9         9             9  \n",
       "...          ...  ..          ...   ...       ...           ...  \n",
       "2445           9   9            9     9         9             9  \n",
       "2455           9   9            9     9         9             9  \n",
       "2472           9   9            9     9         9             9  \n",
       "2449           9   9            9     9         9             9  \n",
       "2435           9   9            9     9         9             9  \n",
       "\n",
       "[72 rows x 40 columns]"
      ]
     },
     "execution_count": 10,
     "metadata": {},
     "output_type": "execute_result"
    }
   ],
   "source": [
    "df.loc[df['Gymnasium'] == 9]"
   ]
  },
  {
   "cell_type": "markdown",
   "metadata": {},
   "source": [
    "- Any row with 9 value is any features have 9 in all features, which assures that these rows are totally inaccurate and have no meaning, so we **will drop them**."
   ]
  },
  {
   "cell_type": "markdown",
   "metadata": {},
   "source": [
    "#### Dropping rows with values of 9 in all columns "
   ]
  },
  {
   "cell_type": "code",
   "execution_count": 11,
   "metadata": {},
   "outputs": [],
   "source": [
    "df.drop(df[(df['Gymnasium']==9) & (df['SwimmingPool']==9) & (df['LandscapedGardens']==9)].index, inplace = True)"
   ]
  },
  {
   "cell_type": "markdown",
   "metadata": {},
   "source": [
    "### Box plot of all amenities features"
   ]
  },
  {
   "cell_type": "code",
   "execution_count": 12,
   "metadata": {
    "scrolled": true
   },
   "outputs": [
    {
     "data": {
      "image/png": "[encoded data removed]",
      "text/plain": [
       "<Figure size 1080x1080 with 37 Axes>"
      ]
     },
     "metadata": {
      "needs_background": "light"
     },
     "output_type": "display_data"
    }
   ],
   "source": [
    "plt.figure(figsize=(15, 15))\n",
    "for n, variable in enumerate(amenities_cols):\n",
    "    ax = plt.subplot(7, 6, n + 1)\n",
    "    g=sns.boxplot(data=df, x=df[variable],y= df['Price'], ax=ax)\n",
    "plt.tight_layout()"
   ]
  },
  {
   "cell_type": "markdown",
   "metadata": {},
   "source": [
    "### Histogram and Boxplot of continous features"
   ]
  },
  {
   "cell_type": "code",
   "execution_count": 13,
   "metadata": {},
   "outputs": [
    {
     "data": {
      "image/png": "[encoded data removed]",
      "text/plain": [
       "<Figure size 432x288 with 2 Axes>"
      ]
     },
     "metadata": {
      "needs_background": "light"
     },
     "output_type": "display_data"
    }
   ],
   "source": [
    "plt.subplot(1, 2, 1)\n",
    "_ = sns.histplot(x='Price', data=df)\n",
    "\n",
    "plt.subplot(1, 2, 2)\n",
    "_ = sns.boxplot(y='Price', data=df)\n",
    "plt.tight_layout()"
   ]
  },
  {
   "cell_type": "code",
   "execution_count": 14,
   "metadata": {},
   "outputs": [
    {
     "data": {
      "image/png": "[encoded data removed]",
      "text/plain": [
       "<Figure size 432x288 with 2 Axes>"
      ]
     },
     "metadata": {
      "needs_background": "light"
     },
     "output_type": "display_data"
    }
   ],
   "source": [
    "plt.subplot(1, 2, 1)\n",
    "_ = sns.histplot(x='Area', data=df)\n",
    "\n",
    "plt.subplot(1, 2, 2)\n",
    "_ = sns.boxplot(y='Area', data=df)\n",
    "plt.tight_layout()"
   ]
  },
  {
   "cell_type": "markdown",
   "metadata": {},
   "source": [
    "- There are some outliers and the data are right skewed."
   ]
  },
  {
   "cell_type": "markdown",
   "metadata": {},
   "source": [
    "## Feature engineering\n",
    "We added two features:\\\n",
    "1- Extracting longitude & latitude features from Location\\\n",
    "2- Combining all amenities in one feature called 'Luxury' that refers to luxury degree where:\n",
    "- If ALL the luxury features are **absent** --> assign 0\n",
    "- If ANY of the **indoor** luxury features are available --> assign 1\n",
    "- If ANY of the **outdoor** luxury features are available --> assign 2\n",
    "- If ALL of the **indoor & outdoor** luxury features are available --> assign 3\n",
    "- Finally, drop amenities columns and keep the Luxury column only."
   ]
  },
  {
   "cell_type": "markdown",
   "metadata": {},
   "source": [
    "For simplicity, feature_eng() function is created to combine any feature engineering steps and to be applied directly on the training and testing sets."
   ]
  },
  {
   "cell_type": "code",
   "execution_count": 15,
   "metadata": {},
   "outputs": [],
   "source": [
    "# get location code function\n",
    "location=Nominatim(user_agent=\"http\")\n",
    "def get_location_code(x):\n",
    "    try:\n",
    "        cordinates=location.geocode(x, country_codes='INR')\n",
    "        return cordinates.latitude, cordinates.longitude  \n",
    "    except:\n",
    "        return \"Not found\", \"Not found\"\n",
    "    \n",
    "def feature_eng(df):\n",
    "    #Extracting longitude & latitude features from Location\n",
    "    unique_location= df['Location'].unique()\n",
    "    location_to_code={}\n",
    "    for place in unique_location:\n",
    "        location_to_code[place]=get_location_code(place)         \n",
    "    df['Latitude'], df['Longitude']=zip(*df['Location'].map(location_to_code))\n",
    "    df= df[df['Latitude'] != 'Not found'].reset_index(drop=True)\n",
    "    \n",
    "    ## Combining all amenities in one feature called 'Luxury' feature\n",
    "    #If ALL the luxury features are absent --> assign 0\n",
    "    df.loc[(df[\"WashingMachine\"]==0)&(df[\"Gasconnection\"]==0)&(df[\"AC\"]==0)&(df[\"Wifi\"]==0)&(df[\"Children'splayarea\"]==0)&\n",
    "       (df[\"LiftAvailable\"]==0)&(df[\"BED\"]==0)&(df[\"Microwave\"]==0)&(df['TV']==0)&(df['DiningTable']==0)&(df[\"Sofa\"]==0)&\n",
    "       (df[\"Wardrobe\"]==0)&(df[\"Refrigerator\"]==0)&(df[\"VaastuCompliant\"]==0)&(df[\"SwimmingPool\"]==0)&\n",
    "       (df[\"LandscapedGardens\"]==0)&(df[\"Gymnasium\"]==0)&(df[\"JoggingTrack\"]==0)&(df[\"CarParking\"]==0)&\n",
    "       (df[\"MaintenanceStaff\"]==0)&(df[\"GolfCourse\"]==0)&(df[\"RainWaterHarvesting\"]==0)&(df[\"IndoorGames\"]==0)&\n",
    "       (df[\"ShoppingMall\"]==0)&(df[\"Intercom\"]==0)&(df[\"SportsFacility\"]==0)&(df[\"ATM\"]==0)&(df[\"ClubHouse\"]==0)&\n",
    "       (df[\"School\"]==0)&(df[\"24X7Security\"]==0)&(df[\"PowerBackup\"]==0)&(df[\"StaffQuarter\"]==0)&(df[\"Cafeteria\"]==0)&\n",
    "       (df[\"MultipurposeRoom\"]==0)&(df[\"Hospital\"]==0),\"luxury\"] = 0\n",
    "    \n",
    "    #If ANY of the indoor luxury features are available --> assign 1\n",
    "    df.loc[(df[\"WashingMachine\"]==1)|(df[\"Gasconnection\"]==1)|(df[\"AC\"]==1)|(df[\"Wifi\"]==1)|\n",
    "       (df[\"LiftAvailable\"]==1)|(df[\"BED\"]==1)|(df[\"Microwave\"]==1)|(df['TV']==1)|(df['DiningTable']==1)|(df[\"Sofa\"]==1)|\n",
    "       (df[\"Wardrobe\"]==1)|(df[\"Refrigerator\"]==1)|(df[\"MultipurposeRoom\"]==1),\"luxury\"] = 1\n",
    "    \n",
    "    #If ANY of the outdoor luxury features are available --> assign 2\n",
    "    df.loc[(df[\"VaastuCompliant\"]==1)|(df[\"SwimmingPool\"]==1)|(df[\"LandscapedGardens\"]==1)|(df[\"Gymnasium\"]==1)|\n",
    "       (df[\"JoggingTrack\"]==1)|(df[\"CarParking\"]==1)|(df[\"MaintenanceStaff\"]==1)|(df[\"GolfCourse\"]==1)|\n",
    "       (df[\"RainWaterHarvesting\"]==1)|(df[\"IndoorGames\"]==1)|(df[\"ShoppingMall\"]==1)|(df[\"Intercom\"]==1)|\n",
    "       (df[\"SportsFacility\"]==1)|(df[\"ATM\"]==1)|(df[\"ClubHouse\"]==1)|(df[\"School\"]==1)|(df[\"24X7Security\"]==1)|\n",
    "       (df[\"PowerBackup\"]==1)|(df[\"StaffQuarter\"]==1)|(df[\"Cafeteria\"]==1)|(df[\"Hospital\"]==1)|\n",
    "       (df[\"Children'splayarea\"]==1),\"luxury\"] = 2\n",
    "    \n",
    "    #If ALL of the indoor & outdoor luxury features are available --> assign 3\n",
    "    df.loc[(df[\"WashingMachine\"]==1)&(df[\"Gasconnection\"]==1)&(df[\"AC\"]==1)&(df[\"Wifi\"]==1)&(df[\"Children'splayarea\"]==1)&\n",
    "       (df[\"LiftAvailable\"]==1)&(df[\"BED\"]==1)&(df[\"Microwave\"]==1)&(df['TV']==1)&(df['DiningTable']==1)&(df[\"Sofa\"]==1)&\n",
    "       (df[\"Wardrobe\"]==1)&(df[\"Refrigerator\"]==1)&(df[\"VaastuCompliant\"]==1)&(df[\"SwimmingPool\"]==1)&\n",
    "       (df[\"LandscapedGardens\"]==1)&(df[\"Gymnasium\"]==1)&(df[\"JoggingTrack\"]==1)&(df[\"CarParking\"]==1)&\n",
    "       (df[\"MaintenanceStaff\"]==1)&(df[\"GolfCourse\"]==1)&(df[\"RainWaterHarvesting\"]==1)&(df[\"IndoorGames\"]==1)&\n",
    "       (df[\"ShoppingMall\"]==1)&(df[\"Intercom\"]==1)&(df[\"SportsFacility\"]==1)&(df[\"ATM\"]==1)&(df[\"ClubHouse\"]==1)&\n",
    "       (df[\"School\"]==1)&(df[\"24X7Security\"]==1)&(df[\"PowerBackup\"]==1)&(df[\"StaffQuarter\"]==1)&(df[\"Cafeteria\"]==1)&\n",
    "       (df[\"MultipurposeRoom\"]==1)&(df[\"Hospital\"]==1),\"luxury\"] = 3\n",
    "    \n",
    "    #Dropping amenities features\n",
    "    df.drop(df.iloc[:, 5:-3], inplace=True, axis=1)\n",
    "    return(df)"
   ]
  },
  {
   "cell_type": "markdown",
   "metadata": {},
   "source": [
    "**Apply to Training set**"
   ]
  },
  {
   "cell_type": "code",
   "execution_count": 16,
   "metadata": {},
   "outputs": [],
   "source": [
    "df = feature_eng(df)"
   ]
  },
  {
   "cell_type": "markdown",
   "metadata": {},
   "source": [
    "## Data Preprocessing"
   ]
  },
  {
   "cell_type": "markdown",
   "metadata": {},
   "source": [
    "#### 1- Removing outliers in continous features"
   ]
  },
  {
   "cell_type": "code",
   "execution_count": 17,
   "metadata": {},
   "outputs": [
    {
     "data": {
      "image/png": "[encoded data removed]",
      "text/plain": [
       "<Figure size 432x288 with 2 Axes>"
      ]
     },
     "metadata": {
      "needs_background": "light"
     },
     "output_type": "display_data"
    }
   ],
   "source": [
    "Q1 = df['Price'].quantile(0.25)\n",
    "Q3 = df['Price'].quantile(0.75)\n",
    "IQR = Q3 - Q1    \n",
    "filter_price = (df['Price'] >= Q1 - 3.5*IQR) & (df['Price'] <= Q3 + 3.5*IQR)\n",
    "df = df.loc[filter_price] \n",
    "\n",
    "### plot boxplot and histogram after removing outliers above and below 3.5 IQR\n",
    "plt.subplot(1, 2, 1)\n",
    "_ = sns.boxplot(y='Price', data= df)\n",
    "plt.subplot(1, 2, 2)\n",
    "_ = sns.histplot(x='Price', data= df)\n",
    "plt.tight_layout()"
   ]
  },
  {
   "cell_type": "code",
   "execution_count": 18,
   "metadata": {},
   "outputs": [
    {
     "data": {
      "image/png": "[encoded data removed]",
      "text/plain": [
       "<Figure size 432x288 with 2 Axes>"
      ]
     },
     "metadata": {
      "needs_background": "light"
     },
     "output_type": "display_data"
    }
   ],
   "source": [
    "# Drop observations greater than some value\n",
    "df = df[df['Area'] <= 6000]\n",
    "\n",
    "### plot boxplot and histogram after removing outliers\n",
    "plt.subplot(1, 2, 1)\n",
    "_ = sns.boxplot(y='Area', data= df)\n",
    "plt.subplot(1, 2, 2)\n",
    "_ = sns.histplot(x='Area', data= df)\n",
    "plt.tight_layout()"
   ]
  },
  {
   "cell_type": "markdown",
   "metadata": {},
   "source": [
    "#### 2- Catboost Encoder for 'Location' feature"
   ]
  },
  {
   "cell_type": "code",
   "execution_count": 19,
   "metadata": {},
   "outputs": [],
   "source": [
    "CBE_encoder = CatBoostEncoder()\n",
    "df[\"Location\"] = CBE_encoder.fit_transform(df[\"Location\"], df['Price'])"
   ]
  },
  {
   "cell_type": "markdown",
   "metadata": {},
   "source": [
    "#### 3- Feature Scaling"
   ]
  },
  {
   "cell_type": "markdown",
   "metadata": {},
   "source": [
    "- Apply log to 'Area' for scaling and overcoming the Sckewness"
   ]
  },
  {
   "cell_type": "code",
   "execution_count": 20,
   "metadata": {},
   "outputs": [],
   "source": [
    "df['Area'] = np.log1p(df['Area'])"
   ]
  },
  {
   "cell_type": "markdown",
   "metadata": {},
   "source": [
    "- Apply log to 'Price' for same reason, plus to **avoid negative predicted values**"
   ]
  },
  {
   "cell_type": "code",
   "execution_count": 21,
   "metadata": {},
   "outputs": [],
   "source": [
    "df['Price'] = np.log1p(df['Price'])"
   ]
  },
  {
   "cell_type": "markdown",
   "metadata": {},
   "source": [
    "- Standard scale \"Location\", \"Latitude\" & \"Longitude\" features"
   ]
  },
  {
   "cell_type": "code",
   "execution_count": 22,
   "metadata": {},
   "outputs": [],
   "source": [
    "sc = StandardScaler()\n",
    "df[[\"Location\",\"Latitude\",\"Longitude\"]]= sc.fit_transform(df[[\"Location\",\"Latitude\",\"Longitude\"]])"
   ]
  },
  {
   "cell_type": "code",
   "execution_count": 23,
   "metadata": {
    "scrolled": true
   },
   "outputs": [
    {
     "data": {
      "text/html": [
       "<div>\n",
       "<style scoped>\n",
       "    .dataframe tbody tr th:only-of-type {\n",
       "        vertical-align: middle;\n",
       "    }\n",
       "\n",
       "    .dataframe tbody tr th {\n",
       "        vertical-align: top;\n",
       "    }\n",
       "\n",
       "    .dataframe thead th {\n",
       "        text-align: right;\n",
       "    }\n",
       "</style>\n",
       "<table border=\"1\" class=\"dataframe\">\n",
       "  <thead>\n",
       "    <tr style=\"text-align: right;\">\n",
       "      <th></th>\n",
       "      <th>Price</th>\n",
       "      <th>Area</th>\n",
       "      <th>Location</th>\n",
       "      <th>No. of Bedrooms</th>\n",
       "      <th>Resale</th>\n",
       "      <th>Latitude</th>\n",
       "      <th>Longitude</th>\n",
       "      <th>luxury</th>\n",
       "    </tr>\n",
       "  </thead>\n",
       "  <tbody>\n",
       "    <tr>\n",
       "      <th>0</th>\n",
       "      <td>16.195057</td>\n",
       "      <td>7.682943</td>\n",
       "      <td>-0.062195</td>\n",
       "      <td>3</td>\n",
       "      <td>0</td>\n",
       "      <td>0.046492</td>\n",
       "      <td>0.115500</td>\n",
       "      <td>2.0</td>\n",
       "    </tr>\n",
       "    <tr>\n",
       "      <th>1</th>\n",
       "      <td>16.118096</td>\n",
       "      <td>7.167038</td>\n",
       "      <td>-0.062195</td>\n",
       "      <td>2</td>\n",
       "      <td>0</td>\n",
       "      <td>0.130217</td>\n",
       "      <td>0.216419</td>\n",
       "      <td>2.0</td>\n",
       "    </tr>\n",
       "    <tr>\n",
       "      <th>2</th>\n",
       "      <td>16.951005</td>\n",
       "      <td>7.625595</td>\n",
       "      <td>-0.062195</td>\n",
       "      <td>4</td>\n",
       "      <td>0</td>\n",
       "      <td>-0.105887</td>\n",
       "      <td>0.132562</td>\n",
       "      <td>2.0</td>\n",
       "    </tr>\n",
       "    <tr>\n",
       "      <th>3</th>\n",
       "      <td>16.523561</td>\n",
       "      <td>7.586296</td>\n",
       "      <td>-0.062195</td>\n",
       "      <td>3</td>\n",
       "      <td>1</td>\n",
       "      <td>-0.105971</td>\n",
       "      <td>0.139070</td>\n",
       "      <td>0.0</td>\n",
       "    </tr>\n",
       "    <tr>\n",
       "      <th>4</th>\n",
       "      <td>16.300417</td>\n",
       "      <td>7.313887</td>\n",
       "      <td>-0.062195</td>\n",
       "      <td>3</td>\n",
       "      <td>0</td>\n",
       "      <td>-0.105689</td>\n",
       "      <td>0.135943</td>\n",
       "      <td>2.0</td>\n",
       "    </tr>\n",
       "    <tr>\n",
       "      <th>...</th>\n",
       "      <td>...</td>\n",
       "      <td>...</td>\n",
       "      <td>...</td>\n",
       "      <td>...</td>\n",
       "      <td>...</td>\n",
       "      <td>...</td>\n",
       "      <td>...</td>\n",
       "      <td>...</td>\n",
       "    </tr>\n",
       "    <tr>\n",
       "      <th>1442</th>\n",
       "      <td>16.056220</td>\n",
       "      <td>7.215975</td>\n",
       "      <td>0.198045</td>\n",
       "      <td>2</td>\n",
       "      <td>0</td>\n",
       "      <td>-0.094729</td>\n",
       "      <td>0.133807</td>\n",
       "      <td>2.0</td>\n",
       "    </tr>\n",
       "    <tr>\n",
       "      <th>1443</th>\n",
       "      <td>15.384127</td>\n",
       "      <td>6.809039</td>\n",
       "      <td>-0.937238</td>\n",
       "      <td>2</td>\n",
       "      <td>0</td>\n",
       "      <td>-0.133099</td>\n",
       "      <td>0.141739</td>\n",
       "      <td>1.0</td>\n",
       "    </tr>\n",
       "    <tr>\n",
       "      <th>1444</th>\n",
       "      <td>15.702580</td>\n",
       "      <td>7.230563</td>\n",
       "      <td>-0.291909</td>\n",
       "      <td>3</td>\n",
       "      <td>0</td>\n",
       "      <td>-0.374795</td>\n",
       "      <td>0.266029</td>\n",
       "      <td>0.0</td>\n",
       "    </tr>\n",
       "    <tr>\n",
       "      <th>1445</th>\n",
       "      <td>15.955577</td>\n",
       "      <td>7.601402</td>\n",
       "      <td>-0.298399</td>\n",
       "      <td>3</td>\n",
       "      <td>0</td>\n",
       "      <td>-0.374795</td>\n",
       "      <td>0.266029</td>\n",
       "      <td>2.0</td>\n",
       "    </tr>\n",
       "    <tr>\n",
       "      <th>1446</th>\n",
       "      <td>15.270398</td>\n",
       "      <td>6.928538</td>\n",
       "      <td>-1.013796</td>\n",
       "      <td>1</td>\n",
       "      <td>0</td>\n",
       "      <td>-0.085576</td>\n",
       "      <td>0.134600</td>\n",
       "      <td>2.0</td>\n",
       "    </tr>\n",
       "  </tbody>\n",
       "</table>\n",
       "<p>1388 rows × 8 columns</p>\n",
       "</div>"
      ],
      "text/plain": [
       "          Price      Area  Location  No. of Bedrooms  Resale  Latitude  \\\n",
       "0     16.195057  7.682943 -0.062195                3       0  0.046492   \n",
       "1     16.118096  7.167038 -0.062195                2       0  0.130217   \n",
       "2     16.951005  7.625595 -0.062195                4       0 -0.105887   \n",
       "3     16.523561  7.586296 -0.062195                3       1 -0.105971   \n",
       "4     16.300417  7.313887 -0.062195                3       0 -0.105689   \n",
       "...         ...       ...       ...              ...     ...       ...   \n",
       "1442  16.056220  7.215975  0.198045                2       0 -0.094729   \n",
       "1443  15.384127  6.809039 -0.937238                2       0 -0.133099   \n",
       "1444  15.702580  7.230563 -0.291909                3       0 -0.374795   \n",
       "1445  15.955577  7.601402 -0.298399                3       0 -0.374795   \n",
       "1446  15.270398  6.928538 -1.013796                1       0 -0.085576   \n",
       "\n",
       "      Longitude  luxury  \n",
       "0      0.115500     2.0  \n",
       "1      0.216419     2.0  \n",
       "2      0.132562     2.0  \n",
       "3      0.139070     0.0  \n",
       "4      0.135943     2.0  \n",
       "...         ...     ...  \n",
       "1442   0.133807     2.0  \n",
       "1443   0.141739     1.0  \n",
       "1444   0.266029     0.0  \n",
       "1445   0.266029     2.0  \n",
       "1446   0.134600     2.0  \n",
       "\n",
       "[1388 rows x 8 columns]"
      ]
     },
     "execution_count": 23,
     "metadata": {},
     "output_type": "execute_result"
    }
   ],
   "source": [
    "df"
   ]
  },
  {
   "cell_type": "markdown",
   "metadata": {},
   "source": [
    "## Model Training with Cross-Validation"
   ]
  },
  {
   "cell_type": "code",
   "execution_count": 24,
   "metadata": {},
   "outputs": [],
   "source": [
    "X = df.drop(['Price'], axis='columns')\n",
    "y = df['Price']"
   ]
  },
  {
   "cell_type": "markdown",
   "metadata": {},
   "source": [
    "### Linear Regression"
   ]
  },
  {
   "cell_type": "code",
   "execution_count": 25,
   "metadata": {},
   "outputs": [
    {
     "name": "stdout",
     "output_type": "stream",
     "text": [
      "[0.78696247 0.8450753  0.7736477  0.79121904 0.80959251 0.86142294\n",
      " 0.8252601  0.83847692 0.84466099 0.7655712 ]\n",
      "0.8141889167272399\n"
     ]
    }
   ],
   "source": [
    "linear_model = LinearRegression()\n",
    "errors = cross_val_score(linear_model, X, y, cv=10)\n",
    "print(errors)\n",
    "print(errors.mean())"
   ]
  },
  {
   "cell_type": "code",
   "execution_count": 26,
   "metadata": {},
   "outputs": [
    {
     "name": "stdout",
     "output_type": "stream",
     "text": [
      "RMSE train:  0.23393647055895772\n",
      "LR train score:  0.8194602989706077 \n",
      "\n"
     ]
    }
   ],
   "source": [
    "linear_model.fit(X, y)\n",
    "\n",
    "pred_train = linear_model.predict(X)\n",
    "print('RMSE train: ', np.sqrt(metrics.mean_squared_error(y, pred_train)))\n",
    "print(\"LR train score: \", r2_score(y, pred_train),'\\n')"
   ]
  },
  {
   "cell_type": "markdown",
   "metadata": {},
   "source": [
    "### Polynomial Regression"
   ]
  },
  {
   "cell_type": "code",
   "execution_count": 27,
   "metadata": {},
   "outputs": [
    {
     "name": "stdout",
     "output_type": "stream",
     "text": [
      "[0.68212886 0.8637568  0.78858298 0.80172011 0.81354554 0.86894921\n",
      " 0.81972773 0.82831947 0.83558116 0.78328237]\n",
      "0.808559423054582\n"
     ]
    }
   ],
   "source": [
    "poly_feat = PolynomialFeatures(degree= 2)\n",
    "X_poly = poly_feat.fit_transform(X)\n",
    "poly_model = LinearRegression()\n",
    "\n",
    "errors_poly = cross_val_score(poly_model, X_poly, y, cv=10)\n",
    "print(errors_poly)\n",
    "print(errors_poly.mean())"
   ]
  },
  {
   "cell_type": "code",
   "execution_count": 28,
   "metadata": {},
   "outputs": [
    {
     "name": "stdout",
     "output_type": "stream",
     "text": [
      "Poly reg RMSE train:  0.22534449713341817\n",
      "Poly reg train score:  0.8324784176443544 \n",
      "\n"
     ]
    }
   ],
   "source": [
    "poly_model.fit(X_poly, y)\n",
    "\n",
    "pred_train = poly_model.predict(X_poly)\n",
    "print('Poly reg RMSE train: ', np.sqrt(metrics.mean_squared_error(y, pred_train)))\n",
    "print(\"Poly reg train score: \", r2_score(y, pred_train),'\\n')"
   ]
  },
  {
   "cell_type": "markdown",
   "metadata": {},
   "source": [
    "- **Try higher degrees then apply regularization**"
   ]
  },
  {
   "cell_type": "code",
   "execution_count": 138,
   "metadata": {},
   "outputs": [
    {
     "name": "stdout",
     "output_type": "stream",
     "text": [
      "[-1.61379057e+05 -6.01147040e+02 -3.99971623e+06 -3.02411973e+04\n",
      " -3.48338100e+05 -5.68415191e+06 -4.99317135e+05 -5.15355965e+06\n",
      " -1.12773607e+04 -4.20654684e+06]\n",
      "-2009512.8628649847\n"
     ]
    }
   ],
   "source": [
    "poly_high_deg = PolynomialFeatures(degree= 4)\n",
    "X_high_deg = poly_high_deg.fit_transform(X)\n",
    "poly_high_deg_model = LinearRegression()\n",
    "\n",
    "errors_poly = cross_val_score(poly_high_deg_model, X_high_deg, y, cv=10)\n",
    "print(errors_poly)\n",
    "print(errors_poly.mean())"
   ]
  },
  {
   "cell_type": "markdown",
   "metadata": {},
   "source": [
    "--> Complete overfitting here"
   ]
  },
  {
   "cell_type": "code",
   "execution_count": 139,
   "metadata": {},
   "outputs": [
    {
     "name": "stdout",
     "output_type": "stream",
     "text": [
      "Poly reg RMSE train:  0.18780359044108594\n",
      "Poly reg train score:  0.8836451115841528 \n",
      "\n"
     ]
    }
   ],
   "source": [
    "poly_high_deg_model.fit(X_high_deg, y)\n",
    "\n",
    "pred_train = poly_high_deg_model.predict(X_high_deg)\n",
    "print('Poly reg RMSE train: ', np.sqrt(metrics.mean_squared_error(y, pred_train)))\n",
    "print(\"Poly reg train score: \", r2_score(y, pred_train),'\\n')"
   ]
  },
  {
   "cell_type": "markdown",
   "metadata": {},
   "source": [
    "### Apply Regularization"
   ]
  },
  {
   "cell_type": "markdown",
   "metadata": {},
   "source": [
    "- 1- Trying Lasso regularization"
   ]
  },
  {
   "cell_type": "code",
   "execution_count": 153,
   "metadata": {},
   "outputs": [
    {
     "name": "stdout",
     "output_type": "stream",
     "text": [
      "[0.71909214 0.84852959 0.76433293 0.79287462 0.80346816 0.86920221\n",
      " 0.82096967 0.79737871 0.8429866  0.7610448 ]\n",
      "0.8019879406226934\n"
     ]
    }
   ],
   "source": [
    "lasso_model = Lasso(alpha=0.01)\n",
    "\n",
    "errors_reg_L1 = cross_val_score(lasso_model, X_high_deg, y, cv=10)\n",
    "print(errors_reg_L1)\n",
    "print(errors_reg_L1.mean())"
   ]
  },
  {
   "cell_type": "code",
   "execution_count": 154,
   "metadata": {},
   "outputs": [
    {
     "name": "stdout",
     "output_type": "stream",
     "text": [
      "RMSE train poly:  0.22340819813070958\n",
      "Poly reg train score:  0.8353449466724738 \n",
      "\n"
     ]
    }
   ],
   "source": [
    "lasso_model.fit(X_high_deg, y)\n",
    "\n",
    "pred_train_L1 = lasso_model.predict(X_high_deg)\n",
    "print('RMSE train poly: ', np.sqrt(metrics.mean_squared_error(y, pred_train_L1)))\n",
    "print(\"Poly reg train score: \", r2_score(y, pred_train_L1),'\\n')"
   ]
  },
  {
   "cell_type": "markdown",
   "metadata": {},
   "source": [
    "- 2- Trying Ridge regularization"
   ]
  },
  {
   "cell_type": "code",
   "execution_count": 232,
   "metadata": {},
   "outputs": [
    {
     "name": "stdout",
     "output_type": "stream",
     "text": [
      "[0.80589741 0.78080994 0.82619672 0.81317997 0.81237636]\n",
      "0.8076920804406859\n"
     ]
    }
   ],
   "source": [
    "ridge_model = Ridge(alpha=1000000, max_iter=2000)\n",
    "\n",
    "errors_reg_L2 = cross_val_score(ridge_model, X_high_deg, y, cv=5)\n",
    "print(errors_reg_L2)\n",
    "print(errors_reg_L2.mean())"
   ]
  },
  {
   "cell_type": "code",
   "execution_count": 233,
   "metadata": {},
   "outputs": [
    {
     "name": "stdout",
     "output_type": "stream",
     "text": [
      "RMSE train poly:  0.23361977700348557\n",
      "Poly reg train score:  0.8199487825199436 \n",
      "\n"
     ]
    }
   ],
   "source": [
    "ridge_model.fit(X_high_deg, y)\n",
    "\n",
    "pred_train_L2 = ridge_model.predict(X_high_deg)\n",
    "print('RMSE train poly: ', np.sqrt(metrics.mean_squared_error(y, pred_train_L2)))\n",
    "print(\"Poly reg train score: \", r2_score(y, pred_train_L2),'\\n')"
   ]
  },
  {
   "cell_type": "markdown",
   "metadata": {},
   "source": [
    "- From CV scores, we can notice that Lasso regularization was better than Ridge."
   ]
  },
  {
   "cell_type": "markdown",
   "metadata": {},
   "source": [
    "# Test"
   ]
  },
  {
   "cell_type": "code",
   "execution_count": 35,
   "metadata": {
    "scrolled": true
   },
   "outputs": [],
   "source": [
    "test_df.drop(test_df[(test_df['Gymnasium']==9) & (test_df['SwimmingPool']==9)& \n",
    "                     (test_df['LandscapedGardens']==9)].index, inplace = True)"
   ]
  },
  {
   "cell_type": "markdown",
   "metadata": {},
   "source": [
    "**Apply feature_eng() and preprocessing sreps on the test set:**"
   ]
  },
  {
   "cell_type": "code",
   "execution_count": 36,
   "metadata": {},
   "outputs": [],
   "source": [
    "test_df = feature_eng(test_df)"
   ]
  },
  {
   "cell_type": "code",
   "execution_count": 37,
   "metadata": {
    "scrolled": true
   },
   "outputs": [],
   "source": [
    "X_test= test_df.drop(['Price'], axis='columns')\n",
    "target_test= test_df['Price']"
   ]
  },
  {
   "cell_type": "code",
   "execution_count": 38,
   "metadata": {},
   "outputs": [],
   "source": [
    "X_test['Location'] = CBE_encoder.transform(X_test['Location'])"
   ]
  },
  {
   "cell_type": "code",
   "execution_count": 39,
   "metadata": {},
   "outputs": [],
   "source": [
    "X_test['Area'] = np.log1p(X_test['Area'])\n",
    "target_test = np.log1p(target_test)\n",
    "X_test[[\"Location\",\"Latitude\",\"Longitude\"]]= sc.transform(X_test[[\"Location\",\"Latitude\",\"Longitude\"]])"
   ]
  },
  {
   "cell_type": "markdown",
   "metadata": {},
   "source": [
    "### Test on linear regression model"
   ]
  },
  {
   "cell_type": "code",
   "execution_count": 134,
   "metadata": {},
   "outputs": [
    {
     "name": "stdout",
     "output_type": "stream",
     "text": [
      "RMSE test:  0.21154678925149142\n",
      "LR test score:  0.8782856298923802\n"
     ]
    }
   ],
   "source": [
    "pred_test = linear_model.predict(X_test)\n",
    "print('RMSE test: ', np.sqrt(metrics.mean_squared_error(target_test, pred_test)))\n",
    "print(\"LR test score: \", r2_score(target_test, pred_test))"
   ]
  },
  {
   "cell_type": "markdown",
   "metadata": {},
   "source": [
    "### Test on polynomial regression model"
   ]
  },
  {
   "cell_type": "code",
   "execution_count": 135,
   "metadata": {},
   "outputs": [
    {
     "name": "stdout",
     "output_type": "stream",
     "text": [
      "RMSE test:  0.20817671225125478\n",
      "Poly reg test score:  0.8821327176255709\n"
     ]
    }
   ],
   "source": [
    "X_test_poly = poly_feat.fit_transform(X_test)\n",
    "pred_test_poly = poly_model.predict(X_test_poly)\n",
    "\n",
    "print('RMSE test: ', np.sqrt(metrics.mean_squared_error(target_test, pred_test_poly)))\n",
    "print(\"Poly reg test score: \", r2_score(target_test, pred_test_poly))"
   ]
  },
  {
   "cell_type": "markdown",
   "metadata": {},
   "source": [
    "### Test on Regularized polynomial regression model "
   ]
  },
  {
   "cell_type": "code",
   "execution_count": 234,
   "metadata": {},
   "outputs": [
    {
     "name": "stdout",
     "output_type": "stream",
     "text": [
      "RMSE test:  0.22169971242021744\n",
      "Poly reg test score:  0.8663222155675622\n"
     ]
    }
   ],
   "source": [
    "X_test_high_poly = poly_high_deg.fit_transform(X_test)\n",
    "pred_test_high_poly = ridge_model.predict(X_test_high_poly)\n",
    "\n",
    "print('RMSE test: ', np.sqrt(metrics.mean_squared_error(target_test, pred_test_high_poly)))\n",
    "print(\"Poly reg test score: \", r2_score(target_test, pred_test_high_poly))"
   ]
  }
 ],
 "metadata": {
  "kernelspec": {
   "display_name": "Python 3",
   "language": "python",
   "name": "python3"
  },
  "language_info": {
   "codemirror_mode": {
    "name": "ipython",
    "version": 3
   },
   "file_extension": ".py",
   "mimetype": "text/x-python",
   "name": "python",
   "nbconvert_exporter": "python",
   "pygments_lexer": "ipython3",
   "version": "3.7.6"
  }
 },
 "nbformat": 4,
 "nbformat_minor": 4
}
